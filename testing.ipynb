{
 "cells": [
  {
   "cell_type": "code",
   "execution_count": 29,
   "metadata": {},
   "outputs": [
    {
     "data": {
      "text/plain": [
       "[        zip_code registration_expiration_date       vehicle_name technology\n",
       " 12969      81137                   2040-03-01            GEM NEV        BEV\n",
       " 12975      81137                   2040-03-01            GEM NEV        BEV\n",
       " 55335      80302                   2030-01-01         BMW i3 REx       PHEV\n",
       " 60358      80004                   2030-01-01        Nissan Leaf        BEV\n",
       " 85439      80015                   2030-01-01  Chevrolet Bolt EV        BEV\n",
       " ...          ...                          ...                ...        ...\n",
       " 928754     80209                   2022-02-28      Tesla Model 3        BEV\n",
       " 928755     80247                   2022-01-31        Nissan Leaf        BEV\n",
       " 928756     80134                   2022-02-28    Audi Q5 Plug In       PHEV\n",
       " 928757     80503                   2022-02-28        Nissan Leaf        BEV\n",
       " 928758     80210                   2022-02-28      Tesla Model Y        BEV\n",
       " \n",
       " [287763 rows x 4 columns],\n",
       "                                            full_address    zip status_code  \\\n",
       " 0     1  Navajo Hill, Mesa Verde National Park, CO 8...  81330           E   \n",
       " 1               1 E Memorial Pkwy, Northglenn, CO 80233  80233           E   \n",
       " 2                     1 Eagle Way, Broomfield, CO 80020  80020           E   \n",
       " 3                1 Lake Ave, Colorado Springs, CO 80906  80906           E   \n",
       " 4                   1 S Marshall Rd, Superior, CO 80027  80027           E   \n",
       " ...                                                 ...    ...         ...   \n",
       " 1163                     Stadium Dr., Boulder, CO 80302  80302           E   \n",
       " 1164                    Sycamore St, Superior, CO 80027  80027           E   \n",
       " 1165              Timberwood Dr, Fort Collins, CO 80528  80528           E   \n",
       " 1166                 USFS-391, Pagosa Springs, CO 81147  81147           E   \n",
       " 1167               W Crestline Ave, Littleton, CO 80120  80120           E   \n",
       " \n",
       "        latitude   longitude           ev_network facility_type  \\\n",
       " 0     37.258807 -108.492770    Tesla Destination         HOTEL   \n",
       " 1     39.909466 -104.990135  ChargePoint Network          None   \n",
       " 2     39.929481 -105.076121  ChargePoint Network          None   \n",
       " 3     38.791286 -104.848153    Tesla Destination         HOTEL   \n",
       " 4     39.955912 -105.163090        Non-Networked         HOTEL   \n",
       " ...         ...         ...                  ...           ...   \n",
       " 1163  40.010577 -105.264618  ChargePoint Network          None   \n",
       " 1164  39.954902 -105.173354  ChargePoint Network          None   \n",
       " 1165  40.520820 -105.019594  ChargePoint Network          None   \n",
       " 1166  37.473169 -106.792402  ChargePoint Network          None   \n",
       " 1167  39.618728 -105.012776  ChargePoint Network          None   \n",
       " \n",
       "      date_last_confirmed  \n",
       " 0             2020-11-03  \n",
       " 1             2022-01-26  \n",
       " 2             2022-01-26  \n",
       " 3             2020-11-03  \n",
       " 4             2020-11-09  \n",
       " ...                  ...  \n",
       " 1163          2022-01-26  \n",
       " 1164          2022-01-26  \n",
       " 1165          2022-01-26  \n",
       " 1166          2022-01-26  \n",
       " 1167          2022-01-26  \n",
       " \n",
       " [1168 rows x 8 columns]]"
      ]
     },
     "execution_count": 29,
     "metadata": {},
     "output_type": "execute_result"
    }
   ],
   "source": [
    "## Libraries\n",
    "import pandas as pd\n",
    "import numpy as np\n",
    "\n",
    "def clean_names(df):\n",
    "    new_df = df.copy()\n",
    "    new_df.rename(\n",
    "        columns = {x: x.lower().replace(\" \", \"_\").strip() for x in new_df.columns.values.tolist()},\n",
    "        inplace = True\n",
    "    )\n",
    "    return new_df\n",
    "\n",
    "## Data Import\n",
    "ev = pd.read_csv(\"C:/Users/jason/Downloads/Datasets/co_ev_registrations_public.csv\").pipe(clean_names)\n",
    "chg = pd.read_csv(\"C:/Users/jason/Downloads/Datasets/alt_fuel_stations.csv\").pipe(clean_names)\n",
    "\n",
    "## Clean/Organize Data\n",
    "## EVs\n",
    "## Make sure that registrations are active for this year\n",
    "ev.registration_expiration_date = pd.to_datetime(ev.registration_expiration_date)\n",
    "ev = ev[['zip_code', 'registration_expiration_date', 'vehicle_name', 'technology']][ev.registration_expiration_date > \"2021-12-31\"]\n",
    "\n",
    "## Fuel Stations\n",
    "## Make sure that charging stations have been verified in the last two years\n",
    "chg.date_last_confirmed = pd.to_datetime(chg.date_last_confirmed)\n",
    "chg[\"full_address\"] = chg.street_address + \", \" + chg.city + \", \" + chg.state + \" \" + chg.zip.map(str)\n",
    "chg = chg[['zip', 'status_code', 'latitude', 'longitude', 'ev_network', 'facility_type', 'date_last_confirmed', 'full_address']][chg.date_last_confirmed > \"2020-01-01\"]\n",
    "## Look at coordinates for charging stations because some 'chargers' may be at the same location\n",
    "chg = chg.groupby(chg.full_address).first().reset_index()\n",
    "\n",
    "ev_data = [ev, chg]\n",
    "ev_data\n"
   ]
  }
 ],
 "metadata": {
  "interpreter": {
   "hash": "de261ff8adfe8d8d7373c661f8dc4faad2080b2dec78374e31170b61ce5eea2a"
  },
  "kernelspec": {
   "display_name": "Python 3.6.8 64-bit",
   "language": "python",
   "name": "python3"
  },
  "language_info": {
   "codemirror_mode": {
    "name": "ipython",
    "version": 3
   },
   "file_extension": ".py",
   "mimetype": "text/x-python",
   "name": "python",
   "nbconvert_exporter": "python",
   "pygments_lexer": "ipython3",
   "version": "3.6.8"
  },
  "orig_nbformat": 4
 },
 "nbformat": 4,
 "nbformat_minor": 2
}
